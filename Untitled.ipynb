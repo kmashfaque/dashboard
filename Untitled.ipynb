{
 "cells": [
  {
   "cell_type": "code",
   "execution_count": 3,
   "id": "24c11260",
   "metadata": {},
   "outputs": [],
   "source": [
    "import pandas as pd\n",
    "\n",
    "# Read the data from count.xlsx\n",
    "data = pd.read_excel('count.xlsx')\n",
    "\n",
    "# Extract the first digit before the \"/\" sign using regular expressions\n",
    "data['First Digit'] = data['count'].str.extract(r'^(\\d+)')\n",
    "\n",
    "# Save the DataFrame back to count.xlsx with the extracted first digit column\n",
    "data.to_excel('count.xlsx', index=False)\n"
   ]
  }
 ],
 "metadata": {
  "kernelspec": {
   "display_name": "Python 3 (ipykernel)",
   "language": "python",
   "name": "python3"
  },
  "language_info": {
   "codemirror_mode": {
    "name": "ipython",
    "version": 3
   },
   "file_extension": ".py",
   "mimetype": "text/x-python",
   "name": "python",
   "nbconvert_exporter": "python",
   "pygments_lexer": "ipython3",
   "version": "3.11.4"
  }
 },
 "nbformat": 4,
 "nbformat_minor": 5
}
