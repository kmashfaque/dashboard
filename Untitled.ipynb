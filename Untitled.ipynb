{
 "cells": [
  {
   "cell_type": "code",
   "execution_count": 1,
   "id": "4b24411a",
   "metadata": {},
   "outputs": [],
   "source": [
    "import pandas as pd\n"
   ]
  },
  {
   "cell_type": "code",
   "execution_count": 3,
   "id": "f9e05a7d",
   "metadata": {},
   "outputs": [],
   "source": [
    "stock_df=pd.read_excel(\"Stocks.xlsx\")"
   ]
  },
  {
   "cell_type": "code",
   "execution_count": 13,
   "id": "49b7ae6d",
   "metadata": {},
   "outputs": [
    {
     "data": {
      "text/plain": [
       "array(['8/1 Bleached ', '8/1 Hessain', '10.4/3 vot', '14/2  Hessian',\n",
       "       '16/2 Ply', '16/3 Green', '18/2 Ply', '20/2 Black', '20/2 Skg',\n",
       "       '20/3 Skg', '21/1 Beached', '21/3 CB Bleached', '26/1  Black',\n",
       "       '8/1 Bleached', '8/1 Bleach ', '10/2  Hessian', '14/3 100,200gm',\n",
       "       '14/5 800gm', '14/5 4kg spool', '14/3 160 grams Spool',\n",
       "       '14/3 250 grams Spool', '14/3 730g bleached',\n",
       "       '14/3 830 grams Spool', '14/3 90gVot', '16/2 Bleach Vot',\n",
       "       '16/2 CRM/CRT', '18/1 Ply', '19.35/3 Orange', '24/1 Ply N',\n",
       "       '26/1 Ply', '28/5 Hanks', '28/1 skg  Spool', '40/1 Ply-J',\n",
       "       '36/3 Natural', '24/1 CRM/CRT', '21/1 Heavy', '16/2 Bleached',\n",
       "       '20/1 Ply', '24/1 CRT', '8/1 Bleached Vot',\n",
       "       '14/2  Hessian Mini Spool', '16/2 Pink Vot', '16/2 Heavy',\n",
       "       '16/2 Heavy Vot', 'Jute Fiber Bleached', '10/2 Ply Vot  Hessian',\n",
       "       '16/2 Ply Crt', '20/2 Heavy', '16/2 Heavy vot', '16/1 CRT',\n",
       "       '12/2 Vot 420gm', '14/2  Hessian ', '14/2  Hess Mini Spool',\n",
       "       '18/2 CRX', '18/2 Ply ', '19.35/4 Vot', '19.35/5 Vot',\n",
       "       '32/5 900gm spool', '16/2 Heavy ', '18/2 CRT', '6.9/1 Coated',\n",
       "       '8/5 White', '10/2', '10/2 Vot PVA', '11.5/3 Ball',\n",
       "       '11.62/2 mix.6 colour', '14/1 Ply', '14/3 Vot',\n",
       "       '14/3 6 items colour', '14/5 Vot  ball', '14.5/6 2.50kg spool',\n",
       "       '14/2', '16/1 ply', '16/2', '18/2 ply', '18/1 ply',\n",
       "       '20/6 Skg(Hank)', '20/5 Skg(Hank)', '21/1 vot', '20.74/4 Vot',\n",
       "       '26/1', '28/1 cop(Lot-36)', '28/5 Ply', '30/1 Ply',\n",
       "       '32/5 Vot(Ball)', '36/1 White', '40/1 ply', '60/1 ply',\n",
       "       '72/2,3,4,6 vot 2.50kg spool', '90/2 Sack', '90/1 Ply',\n",
       "       '120/1 Ply', '150/1 ply', '300/1 ply', '400/1 ply', '90/1 ply',\n",
       "       '200/1 Ply', '10/2 Hassian', '26/1 CRT', '28/5 Ply vot',\n",
       "       '180/1 ply', '90/2 Sack vot', \"14/1 Ply(6*8)'(10*8\",\n",
       "       '20/2 Skg Vot', '21/1 vot hassian', '20/2 seck VOT',\n",
       "       '20/2 seck Vot', '20/5 hass. Vot', '28/1 cop(Lot-36,37)',\n",
       "       '11.5/3 Ball 100gm,400gm', '16/5 Ball 200gm', '28/1 cop(Lot-38)',\n",
       "       '250/1 ply', '70/3 vot', '12/2 ply CRT', '16/5 Ball 400gm',\n",
       "       '90/1 ply (10*10)', '11.5/3 Ball 100gm', '11.5/3 Ball 400gm',\n",
       "       '14/1 ply pva coated', '8/3 PVA coated vot', '14/3 ball 850g ',\n",
       "       '14/3,5,6ball 850g ', '28/1 cop(Lot-39)', '20/1 ply CRT'],\n",
       "      dtype=object)"
      ]
     },
     "execution_count": 13,
     "metadata": {},
     "output_type": "execute_result"
    }
   ],
   "source": [
    "\n",
    "unique_counts = stock_df[\"Count\"].unique()\n",
    "unique_counts\n"
   ]
  },
  {
   "cell_type": "code",
   "execution_count": 14,
   "id": "a4abf1fb",
   "metadata": {},
   "outputs": [
    {
     "name": "stdout",
     "output_type": "stream",
     "text": [
      "       First_Part     Second_Part\n",
      "0             8/1       Bleached \n",
      "1             8/1         Hessain\n",
      "2          10.4/3             vot\n",
      "3            14/2         Hessian\n",
      "4            16/2             Ply\n",
      "..            ...             ...\n",
      "120           8/3  PVA coated vot\n",
      "121          14/3      ball 850g \n",
      "122  14/3,5,6ball           850g \n",
      "123          28/1     cop(Lot-39)\n",
      "124          20/1         ply CRT\n",
      "\n",
      "[125 rows x 2 columns]\n"
     ]
    }
   ],
   "source": [
    "import pandas as pd\n",
    "\n",
    "# List of strings\n",
    "data = ['8/1 Bleached ', '8/1 Hessain', '10.4/3 vot', '14/2  Hessian', '16/2 Ply', '16/3 Green', '18/2 Ply', '20/2 Black', '20/2 Skg', '20/3 Skg', '21/1 Beached', '21/3 CB Bleached', '26/1  Black', '8/1 Bleached', '8/1 Bleach ', '10/2  Hessian', '14/3 100,200gm', '14/5 800gm', '14/5 4kg spool', '14/3 160 grams Spool', '14/3 250 grams Spool', '14/3 730g bleached', '14/3 830 grams Spool', '14/3 90gVot', '16/2 Bleach Vot', '16/2 CRM/CRT', '18/1 Ply', '19.35/3 Orange', '24/1 Ply N', '26/1 Ply', '28/5 Hanks', '28/1 skg  Spool', '40/1 Ply-J', '36/3 Natural', '24/1 CRM/CRT', '21/1 Heavy', '16/2 Bleached', '20/1 Ply', '24/1 Ply', '8/1 Bleached Vot', '14/2  Hessian Mini Spool', '16/2 Pink Vot', '16/2 Heavy', '16/2 Heavy Vot', 'Jute Fiber Bleached', '10/2 Ply Vot  Hessian', '16/2 Ply Crt', '20/2 Heavy', '16/2 Heavy vot', '16/1 CRT', '12/2 Vot 420gm', '14/2  Hessian ', '14/2  Hess Mini Spool', '18/2 CRX', '18/2 Ply ', '19.35/4 Vot', '19.35/5 Vot', '32/5 900gm spool', '16/2 Heavy ', '18/2 CRT', '6.9/1 Coated', '8/5 White', '10/2', '10/2 Vot PVA', '11.5/3 Ball', '11.62/2 mix.6 colour', '14/1 Ply', '14/3 Vot', '14/3 6 items colour', '14/5 Vot  ball', '14.5/6 2.50kg spool', '14/2', '16/1 ply', '16/2', '18/2 ply', '18/1 ply', '20/6 Skg(Hank)', '20/5 Skg(Hank)', '21/1 vot', '20.74/4 Vot', '26/1', '28/1 cop(Lot-36)', '28/5 Ply', '30/1 Ply', '32/5 Vot(Ball)', '36/1 White', '40/1 ply', '60/1 ply', '72/2,3,4,6 vot 2.50kg spool', '90/2 Sack', '90/1 Ply', '120/1 Ply', '150/1 ply', '300/1 ply', '400/1 ply', '90/1 ply', '200/1 Ply', '10/2 Hassian', '26/1 CRT', '28/5 Ply vot', '180/1 ply', '90/2 Sack vot', \"14/1 Ply(6*8)'(10*8\", '20/2 Skg Vot', '21/1 vot hassian', '20/2 seck VOT', '20/2 seck Vot', '20/5 hass. Vot', '28/1 cop(Lot-36,37)', '11.5/3 Ball 100gm,400gm', '16/5 Ball 200gm', '28/1 cop(Lot-38)', '250/1 ply', '70/3 vot', '12/2 ply CRT', '16/5 Ball 400gm', '90/1 ply (10*10)', '11.5/3 Ball 100gm', '11.5/3 Ball 400gm', '14/1 ply pva coated', '8/3 PVA coated vot', '14/3 ball 850g ', '14/3,5,6ball 850g ', '28/1 cop(Lot-39)', '20/1 ply CRT']\n",
    "\n",
    "# Split each string into two parts and create a DataFrame\n",
    "df = pd.DataFrame([s.split(maxsplit=1) for s in unique_counts], columns=['First_Part', 'Second_Part'])\n",
    "\n",
    "print(df)\n"
   ]
  },
  {
   "cell_type": "code",
   "execution_count": 2,
   "id": "f8aa2acc",
   "metadata": {},
   "outputs": [],
   "source": [
    "import pandas as pd\n",
    "df=pd.read_excel(\"production.xlsx\")\n",
    "\n",
    "df_copy=pd.read_excel(\"production - Copy.xlsx\")"
   ]
  },
  {
   "cell_type": "code",
   "execution_count": 8,
   "id": "fb559127",
   "metadata": {},
   "outputs": [
    {
     "ename": "ValueError",
     "evalue": "The truth value of a Series is ambiguous. Use a.empty, a.bool(), a.item(), a.any() or a.all().",
     "output_type": "error",
     "traceback": [
      "\u001b[1;31m---------------------------------------------------------------------------\u001b[0m",
      "\u001b[1;31mValueError\u001b[0m                                Traceback (most recent call last)",
      "Cell \u001b[1;32mIn[8], line 1\u001b[0m\n\u001b[1;32m----> 1\u001b[0m \u001b[38;5;28;01mif\u001b[39;00m df[\u001b[38;5;124m\"\u001b[39m\u001b[38;5;124mFactory\u001b[39m\u001b[38;5;124m\"\u001b[39m]\u001b[38;5;241m==\u001b[39m\u001b[38;5;124m\"\u001b[39m\u001b[38;5;124mJJMLN\u001b[39m\u001b[38;5;124m\"\u001b[39m:\n\u001b[0;32m      2\u001b[0m     \u001b[38;5;28mprint\u001b[39m(df[\u001b[38;5;124m\"\u001b[39m\u001b[38;5;124mcount\u001b[39m\u001b[38;5;124m\"\u001b[39m]\u001b[38;5;241m.\u001b[39munique())\n",
      "File \u001b[1;32m~\\AppData\\Local\\anaconda3\\Lib\\site-packages\\pandas\\core\\generic.py:1527\u001b[0m, in \u001b[0;36mNDFrame.__nonzero__\u001b[1;34m(self)\u001b[0m\n\u001b[0;32m   1525\u001b[0m \u001b[38;5;129m@final\u001b[39m\n\u001b[0;32m   1526\u001b[0m \u001b[38;5;28;01mdef\u001b[39;00m \u001b[38;5;21m__nonzero__\u001b[39m(\u001b[38;5;28mself\u001b[39m) \u001b[38;5;241m-\u001b[39m\u001b[38;5;241m>\u001b[39m NoReturn:\n\u001b[1;32m-> 1527\u001b[0m     \u001b[38;5;28;01mraise\u001b[39;00m \u001b[38;5;167;01mValueError\u001b[39;00m(\n\u001b[0;32m   1528\u001b[0m         \u001b[38;5;124mf\u001b[39m\u001b[38;5;124m\"\u001b[39m\u001b[38;5;124mThe truth value of a \u001b[39m\u001b[38;5;132;01m{\u001b[39;00m\u001b[38;5;28mtype\u001b[39m(\u001b[38;5;28mself\u001b[39m)\u001b[38;5;241m.\u001b[39m\u001b[38;5;18m__name__\u001b[39m\u001b[38;5;132;01m}\u001b[39;00m\u001b[38;5;124m is ambiguous. \u001b[39m\u001b[38;5;124m\"\u001b[39m\n\u001b[0;32m   1529\u001b[0m         \u001b[38;5;124m\"\u001b[39m\u001b[38;5;124mUse a.empty, a.bool(), a.item(), a.any() or a.all().\u001b[39m\u001b[38;5;124m\"\u001b[39m\n\u001b[0;32m   1530\u001b[0m     )\n",
      "\u001b[1;31mValueError\u001b[0m: The truth value of a Series is ambiguous. Use a.empty, a.bool(), a.item(), a.any() or a.all()."
     ]
    }
   ],
   "source": [
    "if df[\"Factory\"]==\"JJMLN\":\n",
    "    print(df[\"count\"].unique())"
   ]
  },
  {
   "cell_type": "code",
   "execution_count": 10,
   "id": "58328626",
   "metadata": {},
   "outputs": [
    {
     "name": "stdout",
     "output_type": "stream",
     "text": [
      "Data saved to jjmln_counts_conversion_factors.xlsx\n"
     ]
    }
   ],
   "source": [
    "import pandas as pd\n",
    "\n",
    "# Filter rows where \"Factory\" is equal to \"JJMLN\"\n",
    "jjmln_rows = df[df[\"Factory\"] == \"JJMLN\"]\n",
    "\n",
    "# Extract the unique values of \"count\" column\n",
    "unique_counts = jjmln_rows[\"count\"]\n",
    "\n",
    "# Extract the corresponding values of \"Conversion factor\" column\n",
    "conversion_factors = jjmln_rows[\"Conversion factor\"]\n",
    "\n",
    "# Create a new DataFrame with the extracted data\n",
    "data = {\n",
    "    \"Count\": unique_counts,\n",
    "    \"Conversion Factor\": conversion_factors\n",
    "}\n",
    "new_df = pd.DataFrame(data)\n",
    "\n",
    "# Write the DataFrame to a new Excel file\n",
    "output_file_path = \"jjmln_counts_conversion_factors.xlsx\"\n",
    "new_df.to_excel(output_file_path, index=False)\n",
    "\n",
    "print(\"Data saved to\", output_file_path)\n"
   ]
  },
  {
   "cell_type": "code",
   "execution_count": null,
   "id": "0265d7e1",
   "metadata": {},
   "outputs": [],
   "source": []
  },
  {
   "cell_type": "code",
   "execution_count": null,
   "id": "f11243a0",
   "metadata": {},
   "outputs": [],
   "source": []
  },
  {
   "cell_type": "code",
   "execution_count": null,
   "id": "b68ed41f",
   "metadata": {},
   "outputs": [],
   "source": []
  }
 ],
 "metadata": {
  "kernelspec": {
   "display_name": "Python 3 (ipykernel)",
   "language": "python",
   "name": "python3"
  },
  "language_info": {
   "codemirror_mode": {
    "name": "ipython",
    "version": 3
   },
   "file_extension": ".py",
   "mimetype": "text/x-python",
   "name": "python",
   "nbconvert_exporter": "python",
   "pygments_lexer": "ipython3",
   "version": "3.11.4"
  }
 },
 "nbformat": 4,
 "nbformat_minor": 5
}
